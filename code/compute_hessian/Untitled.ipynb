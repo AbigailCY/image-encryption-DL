{
 "cells": [
  {
   "cell_type": "code",
   "execution_count": 11,
   "metadata": {},
   "outputs": [],
   "source": [
    "import numpy as np\n",
    "import pandas as pd\n",
    "import matplotlib.pyplot as plt"
   ]
  },
  {
   "cell_type": "code",
   "execution_count": 5,
   "metadata": {},
   "outputs": [
    {
     "data": {
      "text/html": [
       "<div>\n",
       "<style scoped>\n",
       "    .dataframe tbody tr th:only-of-type {\n",
       "        vertical-align: middle;\n",
       "    }\n",
       "\n",
       "    .dataframe tbody tr th {\n",
       "        vertical-align: top;\n",
       "    }\n",
       "\n",
       "    .dataframe thead th {\n",
       "        text-align: right;\n",
       "    }\n",
       "</style>\n",
       "<table border=\"1\" class=\"dataframe\">\n",
       "  <thead>\n",
       "    <tr style=\"text-align: right;\">\n",
       "      <th></th>\n",
       "      <th>0</th>\n",
       "    </tr>\n",
       "  </thead>\n",
       "  <tbody>\n",
       "    <tr>\n",
       "      <td>count</td>\n",
       "      <td>100.000000</td>\n",
       "    </tr>\n",
       "    <tr>\n",
       "      <td>mean</td>\n",
       "      <td>0.520394</td>\n",
       "    </tr>\n",
       "    <tr>\n",
       "      <td>std</td>\n",
       "      <td>0.263014</td>\n",
       "    </tr>\n",
       "    <tr>\n",
       "      <td>min</td>\n",
       "      <td>0.010503</td>\n",
       "    </tr>\n",
       "    <tr>\n",
       "      <td>25%</td>\n",
       "      <td>0.299610</td>\n",
       "    </tr>\n",
       "    <tr>\n",
       "      <td>50%</td>\n",
       "      <td>0.548694</td>\n",
       "    </tr>\n",
       "    <tr>\n",
       "      <td>75%</td>\n",
       "      <td>0.729169</td>\n",
       "    </tr>\n",
       "    <tr>\n",
       "      <td>max</td>\n",
       "      <td>0.989790</td>\n",
       "    </tr>\n",
       "  </tbody>\n",
       "</table>\n",
       "</div>"
      ],
      "text/plain": [
       "                0\n",
       "count  100.000000\n",
       "mean     0.520394\n",
       "std      0.263014\n",
       "min      0.010503\n",
       "25%      0.299610\n",
       "50%      0.548694\n",
       "75%      0.729169\n",
       "max      0.989790"
      ]
     },
     "execution_count": 5,
     "metadata": {},
     "output_type": "execute_result"
    }
   ],
   "source": [
    "a = np.random.rand(100)\n",
    "df = pd.DataFrame(a)\n",
    "df.describe()"
   ]
  },
  {
   "cell_type": "code",
   "execution_count": 42,
   "metadata": {},
   "outputs": [
    {
     "data": {
      "text/plain": [
       "(array([ 1.,  0.,  0.,  1.,  0.,  2.,  2.,  2.,  0.,  7.,  8.,  8., 11.,\n",
       "         2.,  6.,  1.,  3.,  3.,  1.,  2.,  0.,  3.,  0.,  1.,  0.,  2.,\n",
       "         0.,  2.,  0.,  3.,  0.,  0.,  2.,  0.,  0.,  0.,  0.,  2.,  0.,\n",
       "         2.,  0.,  0.,  1.,  0.,  0.,  0.,  0.,  0.,  0.,  0.,  0.,  2.,\n",
       "         0.,  0.,  0.,  0.,  1.,  0.,  0.,  0.,  0.,  1.,  0.,  0.,  0.,\n",
       "         0.,  0.,  1.,  2.,  0.,  0.,  0.,  1.,  0.,  0.,  0.,  0.,  0.,\n",
       "         0.,  0.,  0.,  2.,  0.,  0.,  0.,  0.,  0.,  0.,  0.,  0.,  0.,\n",
       "         0.,  0.,  0.,  0.,  1.,  0.,  0.,  0.,  1.]),\n",
       " array([-1.85980105e-06, -1.69089420e-06, -1.52198736e-06, -1.35308051e-06,\n",
       "        -1.18417367e-06, -1.01526683e-06, -8.46359983e-07, -6.77453139e-07,\n",
       "        -5.08546295e-07, -3.39639452e-07, -1.70732608e-07, -1.82576400e-09,\n",
       "         1.67081080e-07,  3.35987924e-07,  5.04894767e-07,  6.73801611e-07,\n",
       "         8.42708455e-07,  1.01161530e-06,  1.18052214e-06,  1.34942899e-06,\n",
       "         1.51833583e-06,  1.68724267e-06,  1.85614952e-06,  2.02505636e-06,\n",
       "         2.19396321e-06,  2.36287005e-06,  2.53177689e-06,  2.70068374e-06,\n",
       "         2.86959058e-06,  3.03849742e-06,  3.20740427e-06,  3.37631111e-06,\n",
       "         3.54521796e-06,  3.71412480e-06,  3.88303164e-06,  4.05193849e-06,\n",
       "         4.22084533e-06,  4.38975217e-06,  4.55865902e-06,  4.72756586e-06,\n",
       "         4.89647271e-06,  5.06537955e-06,  5.23428639e-06,  5.40319324e-06,\n",
       "         5.57210008e-06,  5.74100692e-06,  5.90991377e-06,  6.07882061e-06,\n",
       "         6.24772746e-06,  6.41663430e-06,  6.58554114e-06,  6.75444799e-06,\n",
       "         6.92335483e-06,  7.09226167e-06,  7.26116852e-06,  7.43007536e-06,\n",
       "         7.59898221e-06,  7.76788905e-06,  7.93679589e-06,  8.10570274e-06,\n",
       "         8.27460958e-06,  8.44351643e-06,  8.61242327e-06,  8.78133011e-06,\n",
       "         8.95023696e-06,  9.11914380e-06,  9.28805064e-06,  9.45695749e-06,\n",
       "         9.62586433e-06,  9.79477118e-06,  9.96367802e-06,  1.01325849e-05,\n",
       "         1.03014917e-05,  1.04703986e-05,  1.06393054e-05,  1.08082122e-05,\n",
       "         1.09771191e-05,  1.11460259e-05,  1.13149328e-05,  1.14838396e-05,\n",
       "         1.16527465e-05,  1.18216533e-05,  1.19905601e-05,  1.21594670e-05,\n",
       "         1.23283738e-05,  1.24972807e-05,  1.26661875e-05,  1.28350944e-05,\n",
       "         1.30040012e-05,  1.31729081e-05,  1.33418149e-05,  1.35107217e-05,\n",
       "         1.36796286e-05,  1.38485354e-05,  1.40174423e-05,  1.41863491e-05,\n",
       "         1.43552560e-05,  1.45241628e-05,  1.46930696e-05,  1.48619765e-05,\n",
       "         1.50308833e-05]),\n",
       " <a list of 100 Patch objects>)"
      ]
     },
     "execution_count": 42,
     "metadata": {},
     "output_type": "execute_result"
    },
    {
     "data": {
      "image/png": "[encoded data removed]",
      "text/plain": [
       "<Figure size 432x288 with 1 Axes>"
      ]
     },
     "metadata": {
      "needs_background": "light"
     },
     "output_type": "display_data"
    }
   ],
   "source": [
    "conv1 = np.load( './LM_conv1.npy' )\n",
    "df = pd.DataFrame(conv1.T)\n",
    "df.describe()\n",
    "\n",
    "# a = np.sort(conv1[0])[:-60]\n",
    "# plt.hist(a, bins = 100)\n",
    "a = np.sort(conv1[0])[:-60]\n",
    "plt.hist(a, bins = 100)\n",
    "# a = np.sort(conv1[3])[:-50]\n",
    "# plt.hist(a, bins = 100)"
   ]
  },
  {
   "cell_type": "code",
   "execution_count": 44,
   "metadata": {},
   "outputs": [
    {
     "data": {
      "text/plain": [
       "(array([1.000e+00, 0.000e+00, 0.000e+00, 0.000e+00, 0.000e+00, 0.000e+00,\n",
       "        0.000e+00, 0.000e+00, 0.000e+00, 0.000e+00, 0.000e+00, 0.000e+00,\n",
       "        0.000e+00, 0.000e+00, 0.000e+00, 0.000e+00, 0.000e+00, 0.000e+00,\n",
       "        1.000e+00, 0.000e+00, 0.000e+00, 1.000e+00, 2.225e+03, 7.500e+01,\n",
       "        7.000e+00, 3.000e+00, 6.000e+00, 2.000e+00, 3.000e+00, 3.000e+00,\n",
       "        0.000e+00, 2.000e+00, 1.000e+00, 1.000e+00, 1.000e+00, 1.000e+00,\n",
       "        1.000e+00, 2.000e+00, 0.000e+00, 2.000e+00, 0.000e+00, 1.000e+00,\n",
       "        0.000e+00, 0.000e+00, 1.000e+00, 0.000e+00, 0.000e+00, 0.000e+00,\n",
       "        1.000e+00, 0.000e+00, 1.000e+00, 0.000e+00, 0.000e+00, 0.000e+00,\n",
       "        1.000e+00, 0.000e+00, 0.000e+00, 0.000e+00, 0.000e+00, 1.000e+00,\n",
       "        0.000e+00, 0.000e+00, 0.000e+00, 0.000e+00, 0.000e+00, 1.000e+00,\n",
       "        0.000e+00, 0.000e+00, 0.000e+00, 0.000e+00, 0.000e+00, 1.000e+00,\n",
       "        0.000e+00, 0.000e+00, 0.000e+00, 0.000e+00, 0.000e+00, 1.000e+00,\n",
       "        0.000e+00, 0.000e+00, 0.000e+00, 0.000e+00, 0.000e+00, 0.000e+00,\n",
       "        0.000e+00, 0.000e+00, 0.000e+00, 1.000e+00, 0.000e+00, 0.000e+00,\n",
       "        0.000e+00, 0.000e+00, 0.000e+00, 0.000e+00, 1.000e+00, 0.000e+00,\n",
       "        0.000e+00, 0.000e+00, 0.000e+00, 1.000e+00]),\n",
       " array([-6.81103120e-06, -6.51464397e-06, -6.21825675e-06, -5.92186952e-06,\n",
       "        -5.62548230e-06, -5.32909507e-06, -5.03270785e-06, -4.73632062e-06,\n",
       "        -4.43993340e-06, -4.14354618e-06, -3.84715895e-06, -3.55077173e-06,\n",
       "        -3.25438450e-06, -2.95799728e-06, -2.66161005e-06, -2.36522283e-06,\n",
       "        -2.06883560e-06, -1.77244838e-06, -1.47606115e-06, -1.17967393e-06,\n",
       "        -8.83286702e-07, -5.86899478e-07, -2.90512253e-07,  5.87497198e-09,\n",
       "         3.02262197e-07,  5.98649422e-07,  8.95036646e-07,  1.19142387e-06,\n",
       "         1.48781110e-06,  1.78419832e-06,  2.08058555e-06,  2.37697277e-06,\n",
       "         2.67336000e-06,  2.96974722e-06,  3.26613444e-06,  3.56252167e-06,\n",
       "         3.85890889e-06,  4.15529612e-06,  4.45168334e-06,  4.74807057e-06,\n",
       "         5.04445779e-06,  5.34084502e-06,  5.63723224e-06,  5.93361947e-06,\n",
       "         6.23000669e-06,  6.52639392e-06,  6.82278114e-06,  7.11916837e-06,\n",
       "         7.41555559e-06,  7.71194282e-06,  8.00833004e-06,  8.30471727e-06,\n",
       "         8.60110449e-06,  8.89749172e-06,  9.19387894e-06,  9.49026617e-06,\n",
       "         9.78665339e-06,  1.00830406e-05,  1.03794278e-05,  1.06758151e-05,\n",
       "         1.09722023e-05,  1.12685895e-05,  1.15649767e-05,  1.18613640e-05,\n",
       "         1.21577512e-05,  1.24541384e-05,  1.27505256e-05,  1.30469129e-05,\n",
       "         1.33433001e-05,  1.36396873e-05,  1.39360745e-05,  1.42324618e-05,\n",
       "         1.45288490e-05,  1.48252362e-05,  1.51216234e-05,  1.54180107e-05,\n",
       "         1.57143979e-05,  1.60107851e-05,  1.63071723e-05,  1.66035596e-05,\n",
       "         1.68999468e-05,  1.71963340e-05,  1.74927212e-05,  1.77891085e-05,\n",
       "         1.80854957e-05,  1.83818829e-05,  1.86782701e-05,  1.89746574e-05,\n",
       "         1.92710446e-05,  1.95674318e-05,  1.98638190e-05,  2.01602063e-05,\n",
       "         2.04565935e-05,  2.07529807e-05,  2.10493679e-05,  2.13457552e-05,\n",
       "         2.16421424e-05,  2.19385296e-05,  2.22349168e-05,  2.25313041e-05,\n",
       "         2.28276913e-05]),\n",
       " <a list of 100 Patch objects>)"
      ]
     },
     "execution_count": 44,
     "metadata": {},
     "output_type": "execute_result"
    },
    {
     "data": {
      "image/png": "[encoded data removed]",
      "text/plain": [
       "<Figure size 432x288 with 1 Axes>"
      ]
     },
     "metadata": {
      "needs_background": "light"
     },
     "output_type": "display_data"
    }
   ],
   "source": [
    "conv2 = np.load( './LM_conv2.npy' )\n",
    "df = pd.DataFrame(conv2.T)\n",
    "df.describe()\n",
    "\n",
    "# a = np.sort(conv2[0])[:-180]\n",
    "# plt.hist(a, bins = 100)\n",
    "\n",
    "a = np.sort(conv2[3])[:-50]\n",
    "plt.hist(a, bins = 100)"
   ]
  },
  {
   "cell_type": "code",
   "execution_count": 9,
   "metadata": {},
   "outputs": [
    {
     "data": {
      "text/html": [
       "<div>\n",
       "<style scoped>\n",
       "    .dataframe tbody tr th:only-of-type {\n",
       "        vertical-align: middle;\n",
       "    }\n",
       "\n",
       "    .dataframe tbody tr th {\n",
       "        vertical-align: top;\n",
       "    }\n",
       "\n",
       "    .dataframe thead th {\n",
       "        text-align: right;\n",
       "    }\n",
       "</style>\n",
       "<table border=\"1\" class=\"dataframe\">\n",
       "  <thead>\n",
       "    <tr style=\"text-align: right;\">\n",
       "      <th></th>\n",
       "      <th>0</th>\n",
       "      <th>1</th>\n",
       "      <th>2</th>\n",
       "      <th>3</th>\n",
       "    </tr>\n",
       "  </thead>\n",
       "  <tbody>\n",
       "    <tr>\n",
       "      <td>count</td>\n",
       "      <td>8.400000e+02</td>\n",
       "      <td>8.400000e+02</td>\n",
       "      <td>8.400000e+02</td>\n",
       "      <td>8.400000e+02</td>\n",
       "    </tr>\n",
       "    <tr>\n",
       "      <td>mean</td>\n",
       "      <td>1.023102e-02</td>\n",
       "      <td>8.181646e-03</td>\n",
       "      <td>2.278513e-03</td>\n",
       "      <td>5.246877e-04</td>\n",
       "    </tr>\n",
       "    <tr>\n",
       "      <td>std</td>\n",
       "      <td>1.596843e-01</td>\n",
       "      <td>1.327087e-01</td>\n",
       "      <td>3.426269e-02</td>\n",
       "      <td>8.627826e-03</td>\n",
       "    </tr>\n",
       "    <tr>\n",
       "      <td>min</td>\n",
       "      <td>-1.158959e-06</td>\n",
       "      <td>-3.708569e-06</td>\n",
       "      <td>-2.279510e-06</td>\n",
       "      <td>-7.336282e-06</td>\n",
       "    </tr>\n",
       "    <tr>\n",
       "      <td>25%</td>\n",
       "      <td>-4.185551e-11</td>\n",
       "      <td>-1.210130e-11</td>\n",
       "      <td>-1.078477e-11</td>\n",
       "      <td>-1.507149e-12</td>\n",
       "    </tr>\n",
       "    <tr>\n",
       "      <td>50%</td>\n",
       "      <td>7.110677e-11</td>\n",
       "      <td>1.412792e-11</td>\n",
       "      <td>7.722498e-12</td>\n",
       "      <td>1.237141e-12</td>\n",
       "    </tr>\n",
       "    <tr>\n",
       "      <td>75%</td>\n",
       "      <td>2.510249e-08</td>\n",
       "      <td>1.236842e-08</td>\n",
       "      <td>3.216643e-09</td>\n",
       "      <td>3.263428e-10</td>\n",
       "    </tr>\n",
       "    <tr>\n",
       "      <td>max</td>\n",
       "      <td>4.280895e+00</td>\n",
       "      <td>3.078929e+00</td>\n",
       "      <td>7.183900e-01</td>\n",
       "      <td>2.277010e-01</td>\n",
       "    </tr>\n",
       "  </tbody>\n",
       "</table>\n",
       "</div>"
      ],
      "text/plain": [
       "                  0             1             2             3\n",
       "count  8.400000e+02  8.400000e+02  8.400000e+02  8.400000e+02\n",
       "mean   1.023102e-02  8.181646e-03  2.278513e-03  5.246877e-04\n",
       "std    1.596843e-01  1.327087e-01  3.426269e-02  8.627826e-03\n",
       "min   -1.158959e-06 -3.708569e-06 -2.279510e-06 -7.336282e-06\n",
       "25%   -4.185551e-11 -1.210130e-11 -1.078477e-11 -1.507149e-12\n",
       "50%    7.110677e-11  1.412792e-11  7.722498e-12  1.237141e-12\n",
       "75%    2.510249e-08  1.236842e-08  3.216643e-09  3.263428e-10\n",
       "max    4.280895e+00  3.078929e+00  7.183900e-01  2.277010e-01"
      ]
     },
     "execution_count": 9,
     "metadata": {},
     "output_type": "execute_result"
    }
   ],
   "source": [
    "fc3 = np.load( './LM_fc3.npy')\n",
    "df = pd.DataFrame(fc3.T)\n",
    "df.describe()"
   ]
  },
  {
   "cell_type": "code",
   "execution_count": null,
   "metadata": {},
   "outputs": [],
   "source": []
  }
 ],
 "metadata": {
  "kernelspec": {
   "display_name": "Python 3",
   "language": "python",
   "name": "python3"
  },
  "language_info": {
   "codemirror_mode": {
    "name": "ipython",
    "version": 3
   },
   "file_extension": ".py",
   "mimetype": "text/x-python",
   "name": "python",
   "nbconvert_exporter": "python",
   "pygments_lexer": "ipython3",
   "version": "3.7.4"
  }
 },
 "nbformat": 4,
 "nbformat_minor": 2
}
